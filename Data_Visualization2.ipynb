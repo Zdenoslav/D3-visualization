{
  "nbformat": 4,
  "nbformat_minor": 0,
  "metadata": {
    "kernelspec": {
      "display_name": "Python 3",
      "language": "python",
      "name": "python3"
    },
    "language_info": {
      "codemirror_mode": {
        "name": "ipython",
        "version": 3
      },
      "file_extension": ".py",
      "mimetype": "text/x-python",
      "name": "python",
      "nbconvert_exporter": "python",
      "pygments_lexer": "ipython3",
      "version": "3.7.4"
    },
    "colab": {
      "name": "Data Visualization.ipynb",
      "provenance": [],
      "collapsed_sections": [],
      "include_colab_link": true
    }
  },
  "cells": [
    {
      "cell_type": "markdown",
      "metadata": {
        "id": "view-in-github",
        "colab_type": "text"
      },
      "source": [
        "<a href=\"https://colab.research.google.com/github/Zdenoslav/D3-visualization/blob/master/Data_Visualization2.ipynb\" target=\"_parent\"><img src=\"https://colab.research.google.com/assets/colab-badge.svg\" alt=\"Open In Colab\"/></a>"
      ]
    },
    {
      "cell_type": "code",
      "metadata": {
        "id": "NzERB1cKcLO-",
        "colab_type": "code",
        "outputId": "a5843e17-e233-4e10-e058-8098486162b6",
        "colab": {
          "base_uri": "https://localhost:8080/",
          "height": 136
        }
      },
      "source": [
        "conda install -c conda-forge plotly"
      ],
      "execution_count": 74,
      "outputs": [
        {
          "output_type": "error",
          "ename": "SyntaxError",
          "evalue": "ignored",
          "traceback": [
            "\u001b[0;36m  File \u001b[0;32m\"<ipython-input-74-cccfd2930fa4>\"\u001b[0;36m, line \u001b[0;32m1\u001b[0m\n\u001b[0;31m    conda install -c conda-forge plotly\u001b[0m\n\u001b[0m                ^\u001b[0m\n\u001b[0;31mSyntaxError\u001b[0m\u001b[0;31m:\u001b[0m invalid syntax\n"
          ]
        }
      ]
    },
    {
      "cell_type": "markdown",
      "metadata": {
        "id": "kukK6wobY5tm",
        "colab_type": "text"
      },
      "source": [
        "#**TOP 50 SPOTIFY SONGS** \n",
        "## Data analysis and visualisation\n",
        "\n",
        "\n",
        "##**OVERVIEW**\n",
        "- The objective of this notebook is to investigate the relationships between different variables and their impact on the popularity of the songs\n",
        "- The original dataset can be obtained from the https://www.kaggle.com/leonardopena/top50spotify2019 \n",
        "- In this notebook, Python packages *\"plotly\"* and *\"seaborn\"* are used to add the interactivity to the images. The modules *\"numpy*\" *\"collections\"* are also used to analyze the data."
      ]
    },
    {
      "cell_type": "markdown",
      "metadata": {
        "id": "-2qLBwx-vzAB",
        "colab_type": "text"
      },
      "source": [
        "##"
      ]
    },
    {
      "cell_type": "code",
      "metadata": {
        "id": "aV3dJj_0cLPD",
        "colab_type": "code",
        "outputId": "95aee947-2b64-4566-b174-5614bb2e7447",
        "colab": {
          "base_uri": "https://localhost:8080/",
          "height": 268
        }
      },
      "source": [
        "import pandas as pd\n",
        "import numpy as np\n",
        "import seaborn as sns\n",
        "import statistics as stat\n",
        "import plotly.express as px\n",
        "sns.set(style=\"ticks\", color_codes=True)\n",
        "sns.set(style=\"darkgrid\")\n",
        "import plotly.graph_objects as go\n",
        "import plotly.express as px\n",
        "from sklearn import preprocessing\n",
        "from collections import Counter\n",
        "import matplotlib.pyplot as plt\n",
        "\n",
        "\n",
        "bar_plot = dict(Counter(df_data['Genre'].values).most_common(5))\n",
        "plt.bar(*zip(*bar_plot.items()))\n",
        "plt.show()\n"
      ],
      "execution_count": 75,
      "outputs": [
        {
          "output_type": "display_data",
          "data": {
            "image/png": "[encoded data removed]",
            "text/plain": [
              "<Figure size 432x288 with 1 Axes>"
            ]
          },
          "metadata": {
            "tags": []
          }
        }
      ]
    },
    {
      "cell_type": "markdown",
      "metadata": {
        "id": "KfppFP0cvj8I",
        "colab_type": "text"
      },
      "source": [
        "- In this graph we can clearly see the 5 most popular genres in 2019"
      ]
    },
    {
      "cell_type": "code",
      "metadata": {
        "id": "G4jTa2ezwWuc",
        "colab_type": "code",
        "colab": {}
      },
      "source": [
        ""
      ],
      "execution_count": 0,
      "outputs": []
    },
    {
      "cell_type": "markdown",
      "metadata": {
        "id": "pNJ8nmAiY1R4",
        "colab_type": "text"
      },
      "source": [
        ""
      ]
    },
    {
      "cell_type": "code",
      "metadata": {
        "id": "jbRtck_cgukg",
        "colab_type": "code",
        "outputId": "1f0fe510-f238-4b1b-afee-3686c16e4c17",
        "colab": {
          "base_uri": "https://localhost:8080/",
          "height": 74
        }
      },
      "source": [
        "print(Counter(df_data['Artist.Name'].values))\n",
        "print(Counter(df_data['Artist.Name'].values).most_common(5))"
      ],
      "execution_count": 76,
      "outputs": [
        {
          "output_type": "stream",
          "text": [
            "Counter({'Ed Sheeran': 4, 'Shawn Mendes': 2, 'The Chainsmokers': 2, 'Ariana Grande': 2, 'Lil Nas X': 2, 'Sech': 2, 'Marshmello': 2, 'Billie Eilish': 2, 'J Balvin': 2, 'Post Malone': 2, 'Lauv': 1, 'Jonas Brothers': 1, 'Chris Brown': 1, 'Tones and I': 1, 'Jhay Cortez': 1, 'Khalid': 1, 'DJ Snake': 1, 'Lady Gaga': 1, 'Y2K': 1, 'Kygo': 1, 'ROSALÍA': 1, 'Lewis Capaldi': 1, 'Nicky Jam': 1, 'Martin Garrix': 1, 'Katy Perry': 1, 'Young Thug': 1, 'Maluma': 1, 'Ali Gatie': 1, 'Sam Smith': 1, 'Taylor Swift': 1, 'Lizzo': 1, 'Lunay': 1, 'Daddy Yankee': 1, 'MEDUZA': 1, 'Anuel AA': 1, 'Drake': 1, 'Lil Tecca': 1, 'Bad Bunny': 1})\n",
            "[('Ed Sheeran', 4), ('Shawn Mendes', 2), ('The Chainsmokers', 2), ('Ariana Grande', 2), ('Lil Nas X', 2)]\n"
          ],
          "name": "stdout"
        }
      ]
    },
    {
      "cell_type": "code",
      "metadata": {
        "id": "8YqyTj4ThAJ7",
        "colab_type": "code",
        "outputId": "2b2d7571-38a3-4ced-c85a-6db1088e7969",
        "colab": {
          "base_uri": "https://localhost:8080/",
          "height": 460
        }
      },
      "source": [
        "bar_plot = dict(Counter(df_data['Artist.Name'].values).most_common(5))\n",
        "plt.bar(*zip(*bar_plot.items()))()\n",
        "plt.show()"
      ],
      "execution_count": 77,
      "outputs": [
        {
          "output_type": "error",
          "ename": "TypeError",
          "evalue": "ignored",
          "traceback": [
            "\u001b[0;31m---------------------------------------------------------------------------\u001b[0m",
            "\u001b[0;31mTypeError\u001b[0m                                 Traceback (most recent call last)",
            "\u001b[0;32m<ipython-input-77-74cfbc7d6208>\u001b[0m in \u001b[0;36m<module>\u001b[0;34m()\u001b[0m\n\u001b[1;32m      1\u001b[0m \u001b[0mbar_plot\u001b[0m \u001b[0;34m=\u001b[0m \u001b[0mdict\u001b[0m\u001b[0;34m(\u001b[0m\u001b[0mCounter\u001b[0m\u001b[0;34m(\u001b[0m\u001b[0mdf_data\u001b[0m\u001b[0;34m[\u001b[0m\u001b[0;34m'Artist.Name'\u001b[0m\u001b[0;34m]\u001b[0m\u001b[0;34m.\u001b[0m\u001b[0mvalues\u001b[0m\u001b[0;34m)\u001b[0m\u001b[0;34m.\u001b[0m\u001b[0mmost_common\u001b[0m\u001b[0;34m(\u001b[0m\u001b[0;36m5\u001b[0m\u001b[0;34m)\u001b[0m\u001b[0;34m)\u001b[0m\u001b[0;34m\u001b[0m\u001b[0;34m\u001b[0m\u001b[0m\n\u001b[0;32m----> 2\u001b[0;31m \u001b[0mplt\u001b[0m\u001b[0;34m.\u001b[0m\u001b[0mbar\u001b[0m\u001b[0;34m(\u001b[0m\u001b[0;34m*\u001b[0m\u001b[0mzip\u001b[0m\u001b[0;34m(\u001b[0m\u001b[0;34m*\u001b[0m\u001b[0mbar_plot\u001b[0m\u001b[0;34m.\u001b[0m\u001b[0mitems\u001b[0m\u001b[0;34m(\u001b[0m\u001b[0;34m)\u001b[0m\u001b[0;34m)\u001b[0m\u001b[0;34m)\u001b[0m\u001b[0;34m(\u001b[0m\u001b[0;34m)\u001b[0m\u001b[0;34m\u001b[0m\u001b[0;34m\u001b[0m\u001b[0m\n\u001b[0m\u001b[1;32m      3\u001b[0m \u001b[0mplt\u001b[0m\u001b[0;34m.\u001b[0m\u001b[0mshow\u001b[0m\u001b[0;34m(\u001b[0m\u001b[0;34m)\u001b[0m\u001b[0;34m\u001b[0m\u001b[0;34m\u001b[0m\u001b[0m\n",
            "\u001b[0;31mTypeError\u001b[0m: 'BarContainer' object is not callable"
          ]
        },
        {
          "output_type": "display_data",
          "data": {
            "image/png": "[encoded data removed]",
            "text/plain": [
              "<Figure size 432x288 with 1 Axes>"
            ]
          },
          "metadata": {
            "tags": []
          }
        }
      ]
    },
    {
      "cell_type": "markdown",
      "metadata": {
        "id": "3Qy8q6Mv0jGQ",
        "colab_type": "text"
      },
      "source": [
        "-"
      ]
    },
    {
      "cell_type": "code",
      "metadata": {
        "id": "F6OseY02cLPG",
        "colab_type": "code",
        "colab": {}
      },
      "source": [
        "df_data = pd.read_csv('top50.csv', encoding='ISO-8859-1')\n"
      ],
      "execution_count": 0,
      "outputs": []
    },
    {
      "cell_type": "code",
      "metadata": {
        "id": "irM6qaJvcLPO",
        "colab_type": "code",
        "colab": {}
      },
      "source": [
        "df_data #Coorelation of columns"
      ],
      "execution_count": 0,
      "outputs": []
    },
    {
      "cell_type": "code",
      "metadata": {
        "id": "2uaKoqCjcLPK",
        "colab_type": "code",
        "colab": {}
      },
      "source": [
        "df_data.columns = ['Unnamed: 0', 'Track.Name', 'Artist.Name', 'Genre', 'Beats.Per.Minute',\n",
        "       'Energy', 'Danceability', 'Loudness', 'Liveness', 'Valence',\n",
        "       'Length', 'Acousticness', 'Speechiness', 'Popularity'] ##changing the name of columns."
      ],
      "execution_count": 0,
      "outputs": []
    },
    {
      "cell_type": "code",
      "metadata": {
        "id": "_dVIEpjwcLPV",
        "colab_type": "code",
        "colab": {}
      },
      "source": [
        "\n",
        "## writing a function which will scale all the required columns so, that they are in one range 0 to 1\n",
        "min_max_scaler = preprocessing.MinMaxScaler()\n",
        "for a in df_data.iloc[:,4:].columns:\n",
        "    x = df_data[[a]].values.astype(float)\n",
        "    df_data[a] = min_max_scaler.fit_transform(x)\n"
      ],
      "execution_count": 0,
      "outputs": []
    },
    {
      "cell_type": "markdown",
      "metadata": {
        "id": "1jC4xge_c-Hv",
        "colab_type": "text"
      },
      "source": [
        "#**THE HEAT MAP TO FIND THE RIGHT CORRELATIONS**"
      ]
    },
    {
      "cell_type": "code",
      "metadata": {
        "colab_type": "code",
        "id": "QiBcp39WcusP",
        "colab": {}
      },
      "source": [
        "corr_matrix = df_data.corr()\n",
        "plt.figure(figsize=(10,8))\n",
        "sns.heatmap(corr_matrix, annot =True)"
      ],
      "execution_count": 0,
      "outputs": []
    },
    {
      "cell_type": "markdown",
      "metadata": {
        "id": "zaHRDrlrw7H1",
        "colab_type": "text"
      },
      "source": [
        "- This the heatmap of correlations among different variables\n",
        "- From the heatmap, we can easily see that **the Valence is negatively correlated with Popularity** whereas **Beats.Per.Minute and Speechiness are very positively correlated with Populariy**. "
      ]
    },
    {
      "cell_type": "markdown",
      "metadata": {
        "id": "uPLuDPjdZ888",
        "colab_type": "text"
      },
      "source": [
        "##**Sorting the Artists by their Popularity**"
      ]
    },
    {
      "cell_type": "code",
      "metadata": {
        "id": "feQzZMnScLPZ",
        "colab_type": "code",
        "colab": {}
      },
      "source": [
        "df_data = df_data.sort_values(by=['Popularity'])"
      ],
      "execution_count": 0,
      "outputs": []
    },
    {
      "cell_type": "code",
      "metadata": {
        "id": "VE9xeg_ucLPd",
        "colab_type": "code",
        "colab": {}
      },
      "source": [
        "## choosing the columns which have the maximum effect on the ranking of song.\n",
        "\n",
        "fig = go.Figure(data=[\n",
        "   # go.Line(name='Energy', x=df_data['Track.Name'], y=df_data['Energy'],marker_color='rgb(117, 132, 173)'),\n",
        "  #  go.Line(name='Danceability', x=df_data['Track.Name'], y=df_data['Danceability'],marker_color='rgb(49, 69, 112)'), #3\n",
        "  #  go.Line(name='Liveness', x=df_data['Track.Name'], y=df_data['Liveness'],marker_color='rgb(174, 209, 214)'),#2\n",
        "   # go.Line(name='Loudness', x=df_data['Track.Name'], y=df_data['Loudness'],marker_color='rgb(224, 152, 115)'),\n",
        "    go.Bar(name='Valence', y=df_data['Track.Name'], x=df_data['Valence'],marker_color='rgb(163, 127, 111)', orientation = 'h', text=round(df_data['Valence'], 2)),\n",
        "    go.Bar(name='Speechiness', y=df_data['Track.Name'], x=df_data['Speechiness'], orientation= 'h', text=round(df_data['Speechiness'], 2)),\n",
        "    go.Bar(name='Beats.Per.Minute', y=df_data['Track.Name'], x=df_data['Beats.Per.Minute'], marker_color='rgb(117, 132, 173)', orientation = 'h', text=round(df_data['Beats.Per.Minute'], 4)),\n",
        "\n",
        "],)\n",
        "# Change the size and barmode activated, as data is too much so, we are increasing the width of data to adjust it.\n",
        "fig.update_layout(\n",
        "    autosize=True,\n",
        "    height=2000,\n",
        "    title=\"TOP 50 SPOTIFY SONGS\",\n",
        "    margin=dict(\n",
        "        l=10,\n",
        "        r=10,\n",
        "        b=200,\n",
        "        t=100,\n",
        "        pad=4\n",
        "    ),\n",
        "    font=dict(\n",
        "        family=\"Amiri\",\n",
        "        size = 18,\n",
        "    \n",
        "    ),\n",
        "    paper_bgcolor=\"LightSteelBlue\",\n",
        "        bargap=0.4,\n",
        "    barmode='stack'\n",
        ")\n",
        "fig.show()\n"
      ],
      "execution_count": 0,
      "outputs": []
    },
    {
      "cell_type": "markdown",
      "metadata": {
        "id": "v3fAwfzlx_Nb",
        "colab_type": "text"
      },
      "source": [
        "- The user can easily explore the data just by moving the mouse over the columns.\n",
        "- The songs are sorted by their popularity starting with the most popular song on the top\n",
        "- Simply by selecting two or more graphs we can compare interactively the values of those songs"
      ]
    },
    {
      "cell_type": "code",
      "metadata": {
        "id": "1NlHxpxLz_Av",
        "colab_type": "code",
        "colab": {}
      },
      "source": [
        ""
      ],
      "execution_count": 0,
      "outputs": []
    },
    {
      "cell_type": "code",
      "metadata": {
        "colab_type": "code",
        "outputId": "b3a57fb4-5bbd-454b-8acf-78621bd74943",
        "id": "vJkd0XPc0AMr",
        "colab": {
          "base_uri": "https://localhost:8080/",
          "height": 459
        }
      },
      "source": [
        "plt.figure(figsize=(10,5))\n",
        "swarmplot=sns.swarmplot(x=\"Genre\",y=\"Popularity\",data=df_data, s=13)\n",
        "swarmplot.set_xticklabels(swarmplot.get_xticklabels(),rotation=90)\n",
        "swarmplot.set_title(\"Relationship between Genre & Popularity\")\n"
      ],
      "execution_count": 88,
      "outputs": [
        {
          "output_type": "execute_result",
          "data": {
            "text/plain": [
              "Text(0.5, 1.0, 'Relationship between Genre & Popularity')"
            ]
          },
          "metadata": {
            "tags": []
          },
          "execution_count": 88
        },
        {
          "output_type": "display_data",
          "data": {
            "image/png": "[encoded data removed]",
            "text/plain": [
              "<Figure size 720x360 with 1 Axes>"
            ]
          },
          "metadata": {
            "tags": []
          }
        }
      ]
    },
    {
      "cell_type": "markdown",
      "metadata": {
        "id": "Nj-zbI190HOn",
        "colab_type": "text"
      },
      "source": [
        "- on the x axis we have all the genres and on the y axis we can see their relationship with the popularity"
      ]
    },
    {
      "cell_type": "code",
      "metadata": {
        "id": "qMxnjybD-VAD",
        "colab_type": "code",
        "colab": {}
      },
      "source": [
        "from google.colab import drive\n",
        "drive.mount('/content/drive')"
      ],
      "execution_count": 0,
      "outputs": []
    },
    {
      "cell_type": "markdown",
      "metadata": {
        "id": "ChX8Y81pwKS7",
        "colab_type": "text"
      },
      "source": [
        ""
      ]
    },
    {
      "cell_type": "code",
      "metadata": {
        "id": "8TryikoyjmCf",
        "colab_type": "code",
        "outputId": "d5fd2595-4037-4798-dee8-696ddc3f438b",
        "colab": {
          "base_uri": "https://localhost:8080/",
          "height": 542
        }
      },
      "source": [
        "fig = px.scatter_3d(df_data, x = 'Speechiness', y = 'Beats.Per.Minute', z = 'Valence', color='Genre')\n",
        "font=dict(\n",
        "        family=\"Amiri\",\n",
        "        size = 18,\n",
        "    \n",
        "    ),\n",
        "fig.show()"
      ],
      "execution_count": 89,
      "outputs": [
        {
          "output_type": "display_data",
          "data": {
            "text/html": [
              "<html>\n",
              "<head><meta charset=\"utf-8\" /></head>\n",
              "<body>\n",
              "    <div>\n",
              "            <script src=\"https://cdnjs.cloudflare.com/ajax/libs/mathjax/2.7.5/MathJax.js?config=TeX-AMS-MML_SVG\"></script><script type=\"text/javascript\">if (window.MathJax) {MathJax.Hub.Config({SVG: {font: \"STIX-Web\"}});}</script>\n",
              "                <script type=\"text/javascript\">window.PlotlyConfig = {MathJaxConfig: 'local'};</script>\n",
              "        <script src=\"https://cdn.plot.ly/plotly-latest.min.js\"></script>    \n",
              "            <div id=\"67d5661a-aa21-49ff-a2a1-1c13ad82acc9\" class=\"plotly-graph-div\" style=\"height:525px; width:100%;\"></div>\n",
              "            <script type=\"text/javascript\">\n",
              "                \n",
              "                    window.PLOTLYENV=window.PLOTLYENV || {};\n",
              "                    \n",
              "                if (document.getElementById(\"67d5661a-aa21-49ff-a2a1-1c13ad82acc9\")) {\n",
              "                    Plotly.newPlot(\n",
              "                        '67d5661a-aa21-49ff-a2a1-1c13ad82acc9',\n",
              "                        [{\"hoverlabel\": {\"namelength\": 0}, \"hovertemplate\": \"Genre=canadian pop<br>Speechiness=%{x}<br>Beats.Per.Minute=%{y}<br>Valence=%{z}\", \"legendgroup\": \"Genre=canadian pop\", \"marker\": {\"color\": \"#636efa\", \"symbol\": \"circle\"}, \"mode\": \"markers\", \"name\": \"Genre=canadian pop\", \"scene\": \"scene\", \"showlegend\": true, \"type\": \"scatter3d\", \"x\": [0.06976744186046512, 0.0], \"y\": [0.37142857142857133, 0.3047619047619047], \"z\": [0.9058823529411764, 0.7647058823529411]}, {\"hoverlabel\": {\"namelength\": 0}, \"hovertemplate\": \"Genre=dance pop<br>Speechiness=%{x}<br>Beats.Per.Minute=%{y}<br>Valence=%{z}\", \"legendgroup\": \"Genre=dance pop\", \"marker\": {\"color\": \"#EF553B\", \"symbol\": \"circle\"}, \"mode\": \"markers\", \"name\": \"Genre=dance pop\", \"scene\": \"scene\", \"showlegend\": true, \"type\": \"scatter3d\", \"x\": [0.0930232558139535, 0.27906976744186046, 0.9999999999999999, 0.0930232558139535, 0.0, 0.06976744186046512, 0.6976744186046512, 0.046511627906976744], \"y\": [0.09523809523809523, 0.07619047619047614, 1.0, 0.10476190476190472, 0.10476190476190472, 0.1428571428571428, 0.5238095238095238, 0.0], \"z\": [0.6823529411764706, 0.047058823529411764, 0.7058823529411764, 0.3294117647058823, 0.2588235294117647, 0.3411764705882353, 0.2705882352941177, 0.7411764705882352]}, {\"hoverlabel\": {\"namelength\": 0}, \"hovertemplate\": \"Genre=boy band<br>Speechiness=%{x}<br>Beats.Per.Minute=%{y}<br>Valence=%{z}\", \"legendgroup\": \"Genre=boy band\", \"marker\": {\"color\": \"#00cc96\", \"symbol\": \"circle\"}, \"mode\": \"markers\", \"name\": \"Genre=boy band\", \"scene\": \"scene\", \"showlegend\": true, \"type\": \"scatter3d\", \"x\": [0.06976744186046512], \"y\": [0.5047619047619049], \"z\": [1.0]}, {\"hoverlabel\": {\"namelength\": 0}, \"hovertemplate\": \"Genre=pop<br>Speechiness=%{x}<br>Beats.Per.Minute=%{y}<br>Valence=%{z}\", \"legendgroup\": \"Genre=pop\", \"marker\": {\"color\": \"#ab63fa\", \"symbol\": \"circle\"}, \"mode\": \"markers\", \"name\": \"Genre=pop\", \"scene\": \"scene\", \"showlegend\": true, \"type\": \"scatter3d\", \"x\": [0.20930232558139533, 0.023255813953488372, 0.2325581395348837, 0.37209302325581395, 0.046511627906976744, 0.0, 0.1395348837209302], \"y\": [0.09523809523809523, 0.16190476190476188, 0.48571428571428565, 0.07619047619047614, 0.6380952380952382, 0.23809523809523803, 0.24761904761904752], \"z\": [0.6, 0.8705882352941177, 0.2941176470588235, 0.5294117647058824, 0.9529411764705882, 0.4117647058823529, 0.2941176470588235]}, {\"hoverlabel\": {\"namelength\": 0}, \"hovertemplate\": \"Genre=australian pop<br>Speechiness=%{x}<br>Beats.Per.Minute=%{y}<br>Valence=%{z}\", \"legendgroup\": \"Genre=australian pop\", \"marker\": {\"color\": \"#FFA15A\", \"symbol\": \"circle\"}, \"mode\": \"markers\", \"name\": \"Genre=australian pop\", \"scene\": \"scene\", \"showlegend\": true, \"type\": \"scatter3d\", \"x\": [0.16279069767441862], \"y\": [0.12380952380952381], \"z\": [0.5176470588235293]}, {\"hoverlabel\": {\"namelength\": 0}, \"hovertemplate\": \"Genre=reggaeton flow<br>Speechiness=%{x}<br>Beats.Per.Minute=%{y}<br>Valence=%{z}\", \"legendgroup\": \"Genre=reggaeton flow\", \"marker\": {\"color\": \"#19d3f3\", \"symbol\": \"circle\"}, \"mode\": \"markers\", \"name\": \"Genre=reggaeton flow\", \"scene\": \"scene\", \"showlegend\": true, \"type\": \"scatter3d\", \"x\": [0.0930232558139535, 0.1395348837209302], \"y\": [0.06666666666666665, 0.19047619047619035], \"z\": [0.5647058823529412, 0.6]}, {\"hoverlabel\": {\"namelength\": 0}, \"hovertemplate\": \"Genre=edm<br>Speechiness=%{x}<br>Beats.Per.Minute=%{y}<br>Valence=%{z}\", \"legendgroup\": \"Genre=edm\", \"marker\": {\"color\": \"#FF6692\", \"symbol\": \"circle\"}, \"mode\": \"markers\", \"name\": \"Genre=edm\", \"scene\": \"scene\", \"showlegend\": true, \"type\": \"scatter3d\", \"x\": [0.023255813953488372, 0.0, 0.0], \"y\": [0.0, 0.18095238095238086, 0.18095238095238086], \"z\": [0.3058823529411765, 0.47058823529411764, 0.3529411764705882]}, {\"hoverlabel\": {\"namelength\": 0}, \"hovertemplate\": \"Genre=country rap<br>Speechiness=%{x}<br>Beats.Per.Minute=%{y}<br>Valence=%{z}\", \"legendgroup\": \"Genre=country rap\", \"marker\": {\"color\": \"#B6E880\", \"symbol\": \"circle\"}, \"mode\": \"markers\", \"name\": \"Genre=country rap\", \"scene\": \"scene\", \"showlegend\": true, \"type\": \"scatter3d\", \"x\": [0.16279069767441862, 0.11627906976744186], \"y\": [0.48571428571428565, 0.6571428571428571], \"z\": [0.6352941176470588, 0.44705882352941173]}, {\"hoverlabel\": {\"namelength\": 0}, \"hovertemplate\": \"Genre=panamanian pop<br>Speechiness=%{x}<br>Beats.Per.Minute=%{y}<br>Valence=%{z}\", \"legendgroup\": \"Genre=panamanian pop\", \"marker\": {\"color\": \"#FF97FF\", \"symbol\": \"circle\"}, \"mode\": \"markers\", \"name\": \"Genre=panamanian pop\", \"scene\": \"scene\", \"showlegend\": true, \"type\": \"scatter3d\", \"x\": [0.3953488372093023, 0.7209302325581395], \"y\": [0.8666666666666668, 0.8666666666666668], \"z\": [0.776470588235294, 0.6117647058823529]}, {\"hoverlabel\": {\"namelength\": 0}, \"hovertemplate\": \"Genre=canadian hip hop<br>Speechiness=%{x}<br>Beats.Per.Minute=%{y}<br>Valence=%{z}\", \"legendgroup\": \"Genre=canadian hip hop\", \"marker\": {\"color\": \"#FECB52\", \"symbol\": \"circle\"}, \"mode\": \"markers\", \"name\": \"Genre=canadian hip hop\", \"scene\": \"scene\", \"showlegend\": true, \"type\": \"scatter3d\", \"x\": [0.11627906976744186, 0.0, 0.046511627906976744], \"y\": [0.4285714285714285, 0.10476190476190472, 0.1523809523809524], \"z\": [0.47058823529411764, 0.3529411764705882, 0.0]}, {\"hoverlabel\": {\"namelength\": 0}, \"hovertemplate\": \"Genre=r&b en espanol<br>Speechiness=%{x}<br>Beats.Per.Minute=%{y}<br>Valence=%{z}\", \"legendgroup\": \"Genre=r&b en espanol\", \"marker\": {\"color\": \"#636efa\", \"symbol\": \"circle\"}, \"mode\": \"markers\", \"name\": \"Genre=r&b en espanol\", \"scene\": \"scene\", \"showlegend\": true, \"type\": \"scatter3d\", \"x\": [0.20930232558139533], \"y\": [0.12380952380952381], \"z\": [0.7647058823529411]}, {\"hoverlabel\": {\"namelength\": 0}, \"hovertemplate\": \"Genre=brostep<br>Speechiness=%{x}<br>Beats.Per.Minute=%{y}<br>Valence=%{z}\", \"legendgroup\": \"Genre=brostep\", \"marker\": {\"color\": \"#EF553B\", \"symbol\": \"circle\"}, \"mode\": \"markers\", \"name\": \"Genre=brostep\", \"scene\": \"scene\", \"showlegend\": true, \"type\": \"scatter3d\", \"x\": [0.046511627906976744, 0.046511627906976744], \"y\": [0.02857142857142858, 0.1428571428571428], \"z\": [0.3999999999999999, 0.6705882352941176]}, {\"hoverlabel\": {\"namelength\": 0}, \"hovertemplate\": \"Genre=latin<br>Speechiness=%{x}<br>Beats.Per.Minute=%{y}<br>Valence=%{z}\", \"legendgroup\": \"Genre=latin\", \"marker\": {\"color\": \"#00cc96\", \"symbol\": \"circle\"}, \"mode\": \"markers\", \"name\": \"Genre=latin\", \"scene\": \"scene\", \"showlegend\": true, \"type\": \"scatter3d\", \"x\": [0.06976744186046512, 0.5116279069767442, 0.6744186046511628, 0.023255813953488372, 0.06976744186046512], \"y\": [0.8666666666666668, 0.07619047619047614, 0.8666666666666668, 0.06666666666666665, 0.08571428571428563], \"z\": [0.8235294117647058, 0.9882352941176471, 0.388235294117647, 0.8235294117647058, 0.6588235294117647]}, {\"hoverlabel\": {\"namelength\": 0}, \"hovertemplate\": \"Genre=big room<br>Speechiness=%{x}<br>Beats.Per.Minute=%{y}<br>Valence=%{z}\", \"legendgroup\": \"Genre=big room\", \"marker\": {\"color\": \"#ab63fa\", \"symbol\": \"circle\"}, \"mode\": \"markers\", \"name\": \"Genre=big room\", \"scene\": \"scene\", \"showlegend\": true, \"type\": \"scatter3d\", \"x\": [0.06976744186046512], \"y\": [0.2761904761904762], \"z\": [0.2588235294117647]}, {\"hoverlabel\": {\"namelength\": 0}, \"hovertemplate\": \"Genre=atl hip hop<br>Speechiness=%{x}<br>Beats.Per.Minute=%{y}<br>Valence=%{z}\", \"legendgroup\": \"Genre=atl hip hop\", \"marker\": {\"color\": \"#FFA15A\", \"symbol\": \"circle\"}, \"mode\": \"markers\", \"name\": \"Genre=atl hip hop\", \"scene\": \"scene\", \"showlegend\": true, \"type\": \"scatter3d\", \"x\": [0.27906976744186046], \"y\": [0.12380952380952381], \"z\": [0.09411764705882353]}, {\"hoverlabel\": {\"namelength\": 0}, \"hovertemplate\": \"Genre=reggaeton<br>Speechiness=%{x}<br>Beats.Per.Minute=%{y}<br>Valence=%{z}\", \"legendgroup\": \"Genre=reggaeton\", \"marker\": {\"color\": \"#19d3f3\", \"symbol\": \"circle\"}, \"mode\": \"markers\", \"name\": \"Genre=reggaeton\", \"scene\": \"scene\", \"showlegend\": true, \"type\": \"scatter3d\", \"x\": [0.5813953488372093, 0.6511627906976744], \"y\": [0.10476190476190472, 0.8666666666666668], \"z\": [0.6823529411764706, 0.16470588235294117]}, {\"hoverlabel\": {\"namelength\": 0}, \"hovertemplate\": \"Genre=electropop<br>Speechiness=%{x}<br>Beats.Per.Minute=%{y}<br>Valence=%{z}\", \"legendgroup\": \"Genre=electropop\", \"marker\": {\"color\": \"#FF6692\", \"symbol\": \"circle\"}, \"mode\": \"markers\", \"name\": \"Genre=electropop\", \"scene\": \"scene\", \"showlegend\": true, \"type\": \"scatter3d\", \"x\": [0.627906976744186, 0.813953488372093], \"y\": [0.47619047619047616, 0.47619047619047616], \"z\": [0.6823529411764706, 0.5411764705882353]}, {\"hoverlabel\": {\"namelength\": 0}, \"hovertemplate\": \"Genre=escape room<br>Speechiness=%{x}<br>Beats.Per.Minute=%{y}<br>Valence=%{z}\", \"legendgroup\": \"Genre=escape room\", \"marker\": {\"color\": \"#B6E880\", \"symbol\": \"circle\"}, \"mode\": \"markers\", \"name\": \"Genre=escape room\", \"scene\": \"scene\", \"showlegend\": true, \"type\": \"scatter3d\", \"x\": [0.18604651162790697], \"y\": [0.6952380952380953], \"z\": [0.3647058823529412]}, {\"hoverlabel\": {\"namelength\": 0}, \"hovertemplate\": \"Genre=dfw rap<br>Speechiness=%{x}<br>Beats.Per.Minute=%{y}<br>Valence=%{z}\", \"legendgroup\": \"Genre=dfw rap\", \"marker\": {\"color\": \"#FF97FF\", \"symbol\": \"circle\"}, \"mode\": \"markers\", \"name\": \"Genre=dfw rap\", \"scene\": \"scene\", \"showlegend\": true, \"type\": \"scatter3d\", \"x\": [0.046511627906976744, 0.0930232558139535], \"y\": [0.04761904761904756, 0.619047619047619], \"z\": [0.9529411764705882, 0.09411764705882353]}, {\"hoverlabel\": {\"namelength\": 0}, \"hovertemplate\": \"Genre=pop house<br>Speechiness=%{x}<br>Beats.Per.Minute=%{y}<br>Valence=%{z}\", \"legendgroup\": \"Genre=pop house\", \"marker\": {\"color\": \"#FECB52\", \"symbol\": \"circle\"}, \"mode\": \"markers\", \"name\": \"Genre=pop house\", \"scene\": \"scene\", \"showlegend\": true, \"type\": \"scatter3d\", \"x\": [0.0], \"y\": [0.37142857142857133], \"z\": [0.6235294117647059]}, {\"hoverlabel\": {\"namelength\": 0}, \"hovertemplate\": \"Genre=trap music<br>Speechiness=%{x}<br>Beats.Per.Minute=%{y}<br>Valence=%{z}\", \"legendgroup\": \"Genre=trap music\", \"marker\": {\"color\": \"#636efa\", \"symbol\": \"circle\"}, \"mode\": \"markers\", \"name\": \"Genre=trap music\", \"scene\": \"scene\", \"showlegend\": true, \"type\": \"scatter3d\", \"x\": [0.6046511627906976], \"y\": [0.9047619047619048], \"z\": [0.15294117647058822]}],\n",
              "                        {\"legend\": {\"tracegroupgap\": 0}, \"margin\": {\"t\": 60}, \"scene\": {\"domain\": {\"x\": [0.0, 1.0], \"y\": [0.0, 1.0]}, \"xaxis\": {\"title\": {\"text\": \"Speechiness\"}}, \"yaxis\": {\"title\": {\"text\": \"Beats.Per.Minute\"}}, \"zaxis\": {\"title\": {\"text\": \"Valence\"}}}, \"template\": {\"data\": {\"bar\": [{\"error_x\": {\"color\": \"#2a3f5f\"}, \"error_y\": {\"color\": \"#2a3f5f\"}, \"marker\": {\"line\": {\"color\": \"#E5ECF6\", \"width\": 0.5}}, \"type\": \"bar\"}], \"barpolar\": [{\"marker\": {\"line\": {\"color\": \"#E5ECF6\", \"width\": 0.5}}, \"type\": \"barpolar\"}], \"carpet\": [{\"aaxis\": {\"endlinecolor\": \"#2a3f5f\", \"gridcolor\": \"white\", \"linecolor\": \"white\", \"minorgridcolor\": \"white\", \"startlinecolor\": \"#2a3f5f\"}, \"baxis\": {\"endlinecolor\": \"#2a3f5f\", \"gridcolor\": \"white\", \"linecolor\": \"white\", \"minorgridcolor\": \"white\", \"startlinecolor\": \"#2a3f5f\"}, \"type\": \"carpet\"}], \"choropleth\": [{\"colorbar\": {\"outlinewidth\": 0, \"ticks\": \"\"}, \"type\": \"choropleth\"}], \"contour\": [{\"colorbar\": {\"outlinewidth\": 0, \"ticks\": \"\"}, \"colorscale\": [[0.0, \"#0d0887\"], [0.1111111111111111, \"#46039f\"], [0.2222222222222222, \"#7201a8\"], [0.3333333333333333, \"#9c179e\"], [0.4444444444444444, \"#bd3786\"], [0.5555555555555556, \"#d8576b\"], [0.6666666666666666, \"#ed7953\"], [0.7777777777777778, \"#fb9f3a\"], [0.8888888888888888, \"#fdca26\"], [1.0, \"#f0f921\"]], \"type\": \"contour\"}], \"contourcarpet\": [{\"colorbar\": {\"outlinewidth\": 0, \"ticks\": \"\"}, \"type\": \"contourcarpet\"}], \"heatmap\": [{\"colorbar\": {\"outlinewidth\": 0, \"ticks\": \"\"}, \"colorscale\": [[0.0, \"#0d0887\"], [0.1111111111111111, \"#46039f\"], [0.2222222222222222, \"#7201a8\"], [0.3333333333333333, \"#9c179e\"], [0.4444444444444444, \"#bd3786\"], [0.5555555555555556, \"#d8576b\"], [0.6666666666666666, \"#ed7953\"], [0.7777777777777778, \"#fb9f3a\"], [0.8888888888888888, \"#fdca26\"], [1.0, \"#f0f921\"]], \"type\": \"heatmap\"}], \"heatmapgl\": [{\"colorbar\": {\"outlinewidth\": 0, \"ticks\": \"\"}, \"colorscale\": [[0.0, \"#0d0887\"], [0.1111111111111111, \"#46039f\"], [0.2222222222222222, \"#7201a8\"], [0.3333333333333333, \"#9c179e\"], [0.4444444444444444, \"#bd3786\"], [0.5555555555555556, \"#d8576b\"], [0.6666666666666666, \"#ed7953\"], [0.7777777777777778, \"#fb9f3a\"], [0.8888888888888888, \"#fdca26\"], [1.0, \"#f0f921\"]], \"type\": \"heatmapgl\"}], \"histogram\": [{\"marker\": {\"colorbar\": {\"outlinewidth\": 0, \"ticks\": \"\"}}, \"type\": \"histogram\"}], \"histogram2d\": [{\"colorbar\": {\"outlinewidth\": 0, \"ticks\": \"\"}, \"colorscale\": [[0.0, \"#0d0887\"], [0.1111111111111111, \"#46039f\"], [0.2222222222222222, \"#7201a8\"], [0.3333333333333333, \"#9c179e\"], [0.4444444444444444, \"#bd3786\"], [0.5555555555555556, \"#d8576b\"], [0.6666666666666666, \"#ed7953\"], [0.7777777777777778, \"#fb9f3a\"], [0.8888888888888888, \"#fdca26\"], [1.0, \"#f0f921\"]], \"type\": \"histogram2d\"}], \"histogram2dcontour\": [{\"colorbar\": {\"outlinewidth\": 0, \"ticks\": \"\"}, \"colorscale\": [[0.0, \"#0d0887\"], [0.1111111111111111, \"#46039f\"], [0.2222222222222222, \"#7201a8\"], [0.3333333333333333, \"#9c179e\"], [0.4444444444444444, \"#bd3786\"], [0.5555555555555556, \"#d8576b\"], [0.6666666666666666, \"#ed7953\"], [0.7777777777777778, \"#fb9f3a\"], [0.8888888888888888, \"#fdca26\"], [1.0, \"#f0f921\"]], \"type\": \"histogram2dcontour\"}], \"mesh3d\": [{\"colorbar\": {\"outlinewidth\": 0, \"ticks\": \"\"}, \"type\": \"mesh3d\"}], \"parcoords\": [{\"line\": {\"colorbar\": {\"outlinewidth\": 0, \"ticks\": \"\"}}, \"type\": \"parcoords\"}], \"pie\": [{\"automargin\": true, \"type\": \"pie\"}], \"scatter\": [{\"marker\": {\"colorbar\": {\"outlinewidth\": 0, \"ticks\": \"\"}}, \"type\": \"scatter\"}], \"scatter3d\": [{\"line\": {\"colorbar\": {\"outlinewidth\": 0, \"ticks\": \"\"}}, \"marker\": {\"colorbar\": {\"outlinewidth\": 0, \"ticks\": \"\"}}, \"type\": \"scatter3d\"}], \"scattercarpet\": [{\"marker\": {\"colorbar\": {\"outlinewidth\": 0, \"ticks\": \"\"}}, \"type\": \"scattercarpet\"}], \"scattergeo\": [{\"marker\": {\"colorbar\": {\"outlinewidth\": 0, \"ticks\": \"\"}}, \"type\": \"scattergeo\"}], \"scattergl\": [{\"marker\": {\"colorbar\": {\"outlinewidth\": 0, \"ticks\": \"\"}}, \"type\": \"scattergl\"}], \"scattermapbox\": [{\"marker\": {\"colorbar\": {\"outlinewidth\": 0, \"ticks\": \"\"}}, \"type\": \"scattermapbox\"}], \"scatterpolar\": [{\"marker\": {\"colorbar\": {\"outlinewidth\": 0, \"ticks\": \"\"}}, \"type\": \"scatterpolar\"}], \"scatterpolargl\": [{\"marker\": {\"colorbar\": {\"outlinewidth\": 0, \"ticks\": \"\"}}, \"type\": \"scatterpolargl\"}], \"scatterternary\": [{\"marker\": {\"colorbar\": {\"outlinewidth\": 0, \"ticks\": \"\"}}, \"type\": \"scatterternary\"}], \"surface\": [{\"colorbar\": {\"outlinewidth\": 0, \"ticks\": \"\"}, \"colorscale\": [[0.0, \"#0d0887\"], [0.1111111111111111, \"#46039f\"], [0.2222222222222222, \"#7201a8\"], [0.3333333333333333, \"#9c179e\"], [0.4444444444444444, \"#bd3786\"], [0.5555555555555556, \"#d8576b\"], [0.6666666666666666, \"#ed7953\"], [0.7777777777777778, \"#fb9f3a\"], [0.8888888888888888, \"#fdca26\"], [1.0, \"#f0f921\"]], \"type\": \"surface\"}], \"table\": [{\"cells\": {\"fill\": {\"color\": \"#EBF0F8\"}, \"line\": {\"color\": \"white\"}}, \"header\": {\"fill\": {\"color\": \"#C8D4E3\"}, \"line\": {\"color\": \"white\"}}, \"type\": \"table\"}]}, \"layout\": {\"annotationdefaults\": {\"arrowcolor\": \"#2a3f5f\", \"arrowhead\": 0, \"arrowwidth\": 1}, \"coloraxis\": {\"colorbar\": {\"outlinewidth\": 0, \"ticks\": \"\"}}, \"colorscale\": {\"diverging\": [[0, \"#8e0152\"], [0.1, \"#c51b7d\"], [0.2, \"#de77ae\"], [0.3, \"#f1b6da\"], [0.4, \"#fde0ef\"], [0.5, \"#f7f7f7\"], [0.6, \"#e6f5d0\"], [0.7, \"#b8e186\"], [0.8, \"#7fbc41\"], [0.9, \"#4d9221\"], [1, \"#276419\"]], \"sequential\": [[0.0, \"#0d0887\"], [0.1111111111111111, \"#46039f\"], [0.2222222222222222, \"#7201a8\"], [0.3333333333333333, \"#9c179e\"], [0.4444444444444444, \"#bd3786\"], [0.5555555555555556, \"#d8576b\"], [0.6666666666666666, \"#ed7953\"], [0.7777777777777778, \"#fb9f3a\"], [0.8888888888888888, \"#fdca26\"], [1.0, \"#f0f921\"]], \"sequentialminus\": [[0.0, \"#0d0887\"], [0.1111111111111111, \"#46039f\"], [0.2222222222222222, \"#7201a8\"], [0.3333333333333333, \"#9c179e\"], [0.4444444444444444, \"#bd3786\"], [0.5555555555555556, \"#d8576b\"], [0.6666666666666666, \"#ed7953\"], [0.7777777777777778, \"#fb9f3a\"], [0.8888888888888888, \"#fdca26\"], [1.0, \"#f0f921\"]]}, \"colorway\": [\"#636efa\", \"#EF553B\", \"#00cc96\", \"#ab63fa\", \"#FFA15A\", \"#19d3f3\", \"#FF6692\", \"#B6E880\", \"#FF97FF\", \"#FECB52\"], \"font\": {\"color\": \"#2a3f5f\"}, \"geo\": {\"bgcolor\": \"white\", \"lakecolor\": \"white\", \"landcolor\": \"#E5ECF6\", \"showlakes\": true, \"showland\": true, \"subunitcolor\": \"white\"}, \"hoverlabel\": {\"align\": \"left\"}, \"hovermode\": \"closest\", \"mapbox\": {\"style\": \"light\"}, \"paper_bgcolor\": \"white\", \"plot_bgcolor\": \"#E5ECF6\", \"polar\": {\"angularaxis\": {\"gridcolor\": \"white\", \"linecolor\": \"white\", \"ticks\": \"\"}, \"bgcolor\": \"#E5ECF6\", \"radialaxis\": {\"gridcolor\": \"white\", \"linecolor\": \"white\", \"ticks\": \"\"}}, \"scene\": {\"xaxis\": {\"backgroundcolor\": \"#E5ECF6\", \"gridcolor\": \"white\", \"gridwidth\": 2, \"linecolor\": \"white\", \"showbackground\": true, \"ticks\": \"\", \"zerolinecolor\": \"white\"}, \"yaxis\": {\"backgroundcolor\": \"#E5ECF6\", \"gridcolor\": \"white\", \"gridwidth\": 2, \"linecolor\": \"white\", \"showbackground\": true, \"ticks\": \"\", \"zerolinecolor\": \"white\"}, \"zaxis\": {\"backgroundcolor\": \"#E5ECF6\", \"gridcolor\": \"white\", \"gridwidth\": 2, \"linecolor\": \"white\", \"showbackground\": true, \"ticks\": \"\", \"zerolinecolor\": \"white\"}}, \"shapedefaults\": {\"line\": {\"color\": \"#2a3f5f\"}}, \"ternary\": {\"aaxis\": {\"gridcolor\": \"white\", \"linecolor\": \"white\", \"ticks\": \"\"}, \"baxis\": {\"gridcolor\": \"white\", \"linecolor\": \"white\", \"ticks\": \"\"}, \"bgcolor\": \"#E5ECF6\", \"caxis\": {\"gridcolor\": \"white\", \"linecolor\": \"white\", \"ticks\": \"\"}}, \"title\": {\"x\": 0.05}, \"xaxis\": {\"automargin\": true, \"gridcolor\": \"white\", \"linecolor\": \"white\", \"ticks\": \"\", \"title\": {\"standoff\": 15}, \"zerolinecolor\": \"white\", \"zerolinewidth\": 2}, \"yaxis\": {\"automargin\": true, \"gridcolor\": \"white\", \"linecolor\": \"white\", \"ticks\": \"\", \"title\": {\"standoff\": 15}, \"zerolinecolor\": \"white\", \"zerolinewidth\": 2}}}},\n",
              "                        {\"responsive\": true}\n",
              "                    ).then(function(){\n",
              "                            \n",
              "var gd = document.getElementById('67d5661a-aa21-49ff-a2a1-1c13ad82acc9');\n",
              "var x = new MutationObserver(function (mutations, observer) {{\n",
              "        var display = window.getComputedStyle(gd).display;\n",
              "        if (!display || display === 'none') {{\n",
              "            console.log([gd, 'removed!']);\n",
              "            Plotly.purge(gd);\n",
              "            observer.disconnect();\n",
              "        }}\n",
              "}});\n",
              "\n",
              "// Listen for the removal of the full notebook cells\n",
              "var notebookContainer = gd.closest('#notebook-container');\n",
              "if (notebookContainer) {{\n",
              "    x.observe(notebookContainer, {childList: true});\n",
              "}}\n",
              "\n",
              "// Listen for the clearing of the current output cell\n",
              "var outputEl = gd.closest('.output');\n",
              "if (outputEl) {{\n",
              "    x.observe(outputEl, {childList: true});\n",
              "}}\n",
              "\n",
              "                        })\n",
              "                };\n",
              "                \n",
              "            </script>\n",
              "        </div>\n",
              "</body>\n",
              "</html>"
            ]
          },
          "metadata": {
            "tags": []
          }
        }
      ]
    },
    {
      "cell_type": "markdown",
      "metadata": {
        "id": "fjOUqGLK0MzI",
        "colab_type": "text"
      },
      "source": [
        ""
      ]
    },
    {
      "cell_type": "code",
      "metadata": {
        "id": "dtUiXViVm52T",
        "colab_type": "code",
        "colab": {}
      },
      "source": [
        "fig.write_html(\"visual2.html\")"
      ],
      "execution_count": 0,
      "outputs": []
    },
    {
      "cell_type": "code",
      "metadata": {
        "id": "Ewx2gYfgycnN",
        "colab_type": "code",
        "colab": {}
      },
      "source": [
        ""
      ],
      "execution_count": 0,
      "outputs": []
    }
  ]
}