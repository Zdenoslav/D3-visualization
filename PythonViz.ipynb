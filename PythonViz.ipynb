{
  "nbformat": 4,
  "nbformat_minor": 0,
  "metadata": {
    "colab": {
      "name": "PythonViz.ipynb",
      "provenance": [],
      "authorship_tag": "ABX9TyPekzyFGnaBjDQVqU8TjcHJ",
      "include_colab_link": true
    },
    "kernelspec": {
      "name": "python3",
      "display_name": "Python 3"
    }
  },
  "cells": [
    {
      "cell_type": "markdown",
      "metadata": {
        "id": "view-in-github",
        "colab_type": "text"
      },
      "source": [
        "<a href=\"https://colab.research.google.com/github/Zdenoslav/D3-visualization/blob/master/PythonViz.ipynb\" target=\"_parent\"><img src=\"https://colab.research.google.com/assets/colab-badge.svg\" alt=\"Open In Colab\"/></a>"
      ]
    },
    {
      "cell_type": "code",
      "metadata": {
        "id": "8xLo67DTYu8A",
        "colab_type": "code",
        "colab": {
          "base_uri": "https://localhost:8080/",
          "height": 177
        },
        "outputId": "3b75fa92-2d99-44af-8a55-ccbd1f1c7e49"
      },
      "source": [
        "import numpy as np\n",
        "\n",
        "spread = np.random.rand(50) * 100\n",
        "print(spread)"
      ],
      "execution_count": 2,
      "outputs": [
        {
          "output_type": "stream",
          "text": [
            "[ 8.43757451 72.38331109 67.89147224 50.5742981  55.02246836 74.67267185\n",
            " 58.0419527  88.88698911  9.64874201  7.48216101  7.33240682 21.87941529\n",
            " 24.73710015 48.91772063 78.29130157 15.8818043  28.61758516 74.62254517\n",
            " 73.04600423 35.25096841 80.99207751 36.30609753 47.72822875 69.68033891\n",
            "  8.46009538 99.2437712  94.67910698  6.26316271 54.04140047 75.18790768\n",
            "  7.92949148 31.40145758 34.96008369 89.89666123 87.22739181 37.98641033\n",
            " 52.62007761 87.12473313 37.79930788 26.50709704 99.11248109 30.26988264\n",
            " 41.41797177 60.53129276 39.15872807  0.54297568  2.98489731 21.97805934\n",
            " 58.46648754 30.10673125]\n"
          ],
          "name": "stdout"
        }
      ]
    },
    {
      "cell_type": "code",
      "metadata": {
        "id": "SAdpwp1LZDg4",
        "colab_type": "code",
        "colab": {
          "base_uri": "https://localhost:8080/",
          "height": 53
        },
        "outputId": "cbcf0c00-b546-403f-d1dd-c29f9f3568ee"
      },
      "source": [
        "# lots of data in the centre of the range\n",
        "\n",
        "centre = np.ones(25) * 50\n",
        "print(centre)"
      ],
      "execution_count": 3,
      "outputs": [
        {
          "output_type": "stream",
          "text": [
            "[50. 50. 50. 50. 50. 50. 50. 50. 50. 50. 50. 50. 50. 50. 50. 50. 50. 50.\n",
            " 50. 50. 50. 50. 50. 50. 50.]\n"
          ],
          "name": "stdout"
        }
      ]
    },
    {
      "cell_type": "code",
      "metadata": {
        "id": "XdRpO5FXZUlu",
        "colab_type": "code",
        "colab": {
          "base_uri": "https://localhost:8080/",
          "height": 53
        },
        "outputId": "df4208d9-f5c2-4e9e-adf0-1d7e009df0c8"
      },
      "source": [
        "#some high outliers\n",
        "outliers_low = np.random.rand(10) * -100\n",
        "print(outliers_low)"
      ],
      "execution_count": 4,
      "outputs": [
        {
          "output_type": "stream",
          "text": [
            "[-40.01421978 -60.93522255 -10.57257138 -76.68404663 -50.59302673\n",
            " -77.72694104 -10.11132471 -85.14456302 -50.08139759 -79.06094171]\n"
          ],
          "name": "stdout"
        }
      ]
    },
    {
      "cell_type": "code",
      "metadata": {
        "id": "ZIdM9FHEZjSC",
        "colab_type": "code",
        "colab": {
          "base_uri": "https://localhost:8080/",
          "height": 319
        },
        "outputId": "e36c6d80-c539-438a-bcd4-0cf4a9e76706"
      },
      "source": [
        "data = np.concatenate((spread, centre,outliers_low), 0)\n",
        "print(data)"
      ],
      "execution_count": 6,
      "outputs": [
        {
          "output_type": "stream",
          "text": [
            "[  8.43757451  72.38331109  67.89147224  50.5742981   55.02246836\n",
            "  74.67267185  58.0419527   88.88698911   9.64874201   7.48216101\n",
            "   7.33240682  21.87941529  24.73710015  48.91772063  78.29130157\n",
            "  15.8818043   28.61758516  74.62254517  73.04600423  35.25096841\n",
            "  80.99207751  36.30609753  47.72822875  69.68033891   8.46009538\n",
            "  99.2437712   94.67910698   6.26316271  54.04140047  75.18790768\n",
            "   7.92949148  31.40145758  34.96008369  89.89666123  87.22739181\n",
            "  37.98641033  52.62007761  87.12473313  37.79930788  26.50709704\n",
            "  99.11248109  30.26988264  41.41797177  60.53129276  39.15872807\n",
            "   0.54297568   2.98489731  21.97805934  58.46648754  30.10673125\n",
            "  50.          50.          50.          50.          50.\n",
            "  50.          50.          50.          50.          50.\n",
            "  50.          50.          50.          50.          50.\n",
            "  50.          50.          50.          50.          50.\n",
            "  50.          50.          50.          50.          50.\n",
            " -40.01421978 -60.93522255 -10.57257138 -76.68404663 -50.59302673\n",
            " -77.72694104 -10.11132471 -85.14456302 -50.08139759 -79.06094171]\n"
          ],
          "name": "stdout"
        }
      ]
    },
    {
      "cell_type": "code",
      "metadata": {
        "id": "oaH0DiEmZwhp",
        "colab_type": "code",
        "colab": {
          "base_uri": "https://localhost:8080/",
          "height": 407
        },
        "outputId": "2e507099-1a38-4805-af97-87e4a8b84931"
      },
      "source": [
        "%matplotlib inline\n",
        "import matplotlib.pyplot as plt\n",
        "\n",
        "plt.figure()\n",
        "plt.boxplot(data)"
      ],
      "execution_count": 7,
      "outputs": [
        {
          "output_type": "execute_result",
          "data": {
            "text/plain": [
              "{'boxes': [<matplotlib.lines.Line2D at 0x7ff35b1b0588>],\n",
              " 'caps': [<matplotlib.lines.Line2D at 0x7ff35b1b0f98>,\n",
              "  <matplotlib.lines.Line2D at 0x7ff35b1c8358>],\n",
              " 'fliers': [<matplotlib.lines.Line2D at 0x7ff35b1c8a58>],\n",
              " 'means': [],\n",
              " 'medians': [<matplotlib.lines.Line2D at 0x7ff35b1c86d8>],\n",
              " 'whiskers': [<matplotlib.lines.Line2D at 0x7ff35b1b0898>,\n",
              "  <matplotlib.lines.Line2D at 0x7ff35b1b0c18>]}"
            ]
          },
          "metadata": {
            "tags": []
          },
          "execution_count": 7
        },
        {
          "output_type": "display_data",
          "data": {
            "image/png": "[encoded data removed]",
            "text/plain": [
              "<Figure size 432x288 with 1 Axes>"
            ]
          },
          "metadata": {
            "tags": [],
            "needs_background": "light"
          }
        }
      ]
    },
    {
      "cell_type": "code",
      "metadata": {
        "id": "GHTsYWR_aENC",
        "colab_type": "code",
        "colab": {
          "base_uri": "https://localhost:8080/",
          "height": 407
        },
        "outputId": "2801d4c9-31e7-47dd-e1b3-96b97c80f60a"
      },
      "source": [
        "plt.figure()\n",
        "plt.boxplot(data, showmeans=True)"
      ],
      "execution_count": 10,
      "outputs": [
        {
          "output_type": "execute_result",
          "data": {
            "text/plain": [
              "{'boxes': [<matplotlib.lines.Line2D at 0x7ff35a8e2a58>],\n",
              " 'caps': [<matplotlib.lines.Line2D at 0x7ff35a8f04a8>,\n",
              "  <matplotlib.lines.Line2D at 0x7ff35a8f0828>],\n",
              " 'fliers': [<matplotlib.lines.Line2D at 0x7ff35a8f92b0>],\n",
              " 'means': [<matplotlib.lines.Line2D at 0x7ff35a8f0f28>],\n",
              " 'medians': [<matplotlib.lines.Line2D at 0x7ff35a8f0ba8>],\n",
              " 'whiskers': [<matplotlib.lines.Line2D at 0x7ff35a8e2d68>,\n",
              "  <matplotlib.lines.Line2D at 0x7ff35a8f0128>]}"
            ]
          },
          "metadata": {
            "tags": []
          },
          "execution_count": 10
        },
        {
          "output_type": "display_data",
          "data": {
            "image/png": "[encoded data removed]",
            "text/plain": [
              "<Figure size 432x288 with 1 Axes>"
            ]
          },
          "metadata": {
            "tags": [],
            "needs_background": "light"
          }
        }
      ]
    },
    {
      "cell_type": "code",
      "metadata": {
        "id": "h9fnSaxPaPR5",
        "colab_type": "code",
        "colab": {
          "base_uri": "https://localhost:8080/",
          "height": 354
        },
        "outputId": "3c06efa4-3aef-4855-d36b-362fc6e68f7b"
      },
      "source": [
        "plt.figure()\n",
        "plt.hist(data)"
      ],
      "execution_count": 11,
      "outputs": [
        {
          "output_type": "execute_result",
          "data": {
            "text/plain": [
              "(array([ 4.,  3.,  1.,  0.,  5., 10., 12., 34.,  8.,  8.]),\n",
              " array([-85.14456302, -66.7057296 , -48.26689618, -29.82806276,\n",
              "        -11.38922933,   7.04960409,  25.48843751,  43.92727093,\n",
              "         62.36610435,  80.80493778,  99.2437712 ]),\n",
              " <a list of 10 Patch objects>)"
            ]
          },
          "metadata": {
            "tags": []
          },
          "execution_count": 11
        },
        {
          "output_type": "display_data",
          "data": {
            "image/png": "[encoded data removed]",
            "text/plain": [
              "<Figure size 432x288 with 1 Axes>"
            ]
          },
          "metadata": {
            "tags": [],
            "needs_background": "light"
          }
        }
      ]
    },
    {
      "cell_type": "code",
      "metadata": {
        "id": "jsS09NBUahWM",
        "colab_type": "code",
        "colab": {
          "base_uri": "https://localhost:8080/",
          "height": 336
        },
        "outputId": "eae8060e-df32-409f-934b-8a341cdcf215"
      },
      "source": [
        "plt.figure()\n",
        "plt.hist(data, bins=5)"
      ],
      "execution_count": 12,
      "outputs": [
        {
          "output_type": "execute_result",
          "data": {
            "text/plain": [
              "(array([ 7.,  1., 15., 46., 16.]),\n",
              " array([-85.14456302, -48.26689618, -11.38922933,  25.48843751,\n",
              "         62.36610435,  99.2437712 ]),\n",
              " <a list of 5 Patch objects>)"
            ]
          },
          "metadata": {
            "tags": []
          },
          "execution_count": 12
        },
        {
          "output_type": "display_data",
          "data": {
            "image/png": "[encoded data removed]",
            "text/plain": [
              "<Figure size 432x288 with 1 Axes>"
            ]
          },
          "metadata": {
            "tags": [],
            "needs_background": "light"
          }
        }
      ]
    },
    {
      "cell_type": "code",
      "metadata": {
        "id": "qAh63yqkaoxw",
        "colab_type": "code",
        "colab": {
          "base_uri": "https://localhost:8080/",
          "height": 426
        },
        "outputId": "aeabc844-d42e-42cc-dff0-4df0efb31ad4"
      },
      "source": [
        "plt.figure()\n",
        "plt.hist(data, bins=20)"
      ],
      "execution_count": 13,
      "outputs": [
        {
          "output_type": "execute_result",
          "data": {
            "text/plain": [
              "(array([ 4.,  0.,  1.,  2.,  1.,  0.,  0.,  0.,  2.,  3.,  7.,  3.,  5.,\n",
              "         7., 29.,  5.,  2.,  6.,  5.,  3.]),\n",
              " array([-85.14456302, -75.92514631, -66.7057296 , -57.48631289,\n",
              "        -48.26689618, -39.04747947, -29.82806276, -20.60864604,\n",
              "        -11.38922933,  -2.16981262,   7.04960409,  16.2690208 ,\n",
              "         25.48843751,  34.70785422,  43.92727093,  53.14668764,\n",
              "         62.36610435,  71.58552106,  80.80493778,  90.02435449,\n",
              "         99.2437712 ]),\n",
              " <a list of 20 Patch objects>)"
            ]
          },
          "metadata": {
            "tags": []
          },
          "execution_count": 13
        },
        {
          "output_type": "display_data",
          "data": {
            "image/png": "[encoded data removed]",
            "text/plain": [
              "<Figure size 432x288 with 1 Axes>"
            ]
          },
          "metadata": {
            "tags": [],
            "needs_background": "light"
          }
        }
      ]
    },
    {
      "cell_type": "code",
      "metadata": {
        "id": "ktIO4kPuauPo",
        "colab_type": "code",
        "colab": {
          "base_uri": "https://localhost:8080/",
          "height": 338
        },
        "outputId": "4728196e-a322-4836-ac01-96be82c98d22"
      },
      "source": [
        "import seaborn as sns\n",
        "\n",
        "sns.violinplot(data)\n"
      ],
      "execution_count": 14,
      "outputs": [
        {
          "output_type": "stream",
          "text": [
            "/usr/local/lib/python3.6/dist-packages/statsmodels/tools/_testing.py:19: FutureWarning: pandas.util.testing is deprecated. Use the functions in the public API at pandas.testing instead.\n",
            "  import pandas.util.testing as tm\n"
          ],
          "name": "stderr"
        },
        {
          "output_type": "execute_result",
          "data": {
            "text/plain": [
              "<matplotlib.axes._subplots.AxesSubplot at 0x7ff34fd9dba8>"
            ]
          },
          "metadata": {
            "tags": []
          },
          "execution_count": 14
        },
        {
          "output_type": "display_data",
          "data": {
            "image/png": "[encoded data removed]",
            "text/plain": [
              "<Figure size 432x288 with 1 Axes>"
            ]
          },
          "metadata": {
            "tags": [],
            "needs_background": "light"
          }
        }
      ]
    }
  ]
}